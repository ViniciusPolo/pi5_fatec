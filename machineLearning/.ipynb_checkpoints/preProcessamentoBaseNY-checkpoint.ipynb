{
 "cells": [
  {
   "cell_type": "code",
   "execution_count": 17,
   "id": "d97fb997-9723-4d48-8154-fef18387703c",
   "metadata": {},
   "outputs": [
    {
     "data": {
      "text/html": [
       "<div>\n",
       "<style scoped>\n",
       "    .dataframe tbody tr th:only-of-type {\n",
       "        vertical-align: middle;\n",
       "    }\n",
       "\n",
       "    .dataframe tbody tr th {\n",
       "        vertical-align: top;\n",
       "    }\n",
       "\n",
       "    .dataframe thead th {\n",
       "        text-align: right;\n",
       "    }\n",
       "</style>\n",
       "<table border=\"1\" class=\"dataframe\">\n",
       "  <thead>\n",
       "    <tr style=\"text-align: right;\">\n",
       "      <th></th>\n",
       "      <th>order_id</th>\n",
       "      <th>customer_id</th>\n",
       "      <th>restaurant_name</th>\n",
       "      <th>cuisine_type</th>\n",
       "      <th>cost_of_the_order</th>\n",
       "      <th>day_of_the_week</th>\n",
       "      <th>rating</th>\n",
       "      <th>food_preparation_time</th>\n",
       "      <th>delivery_time</th>\n",
       "    </tr>\n",
       "  </thead>\n",
       "  <tbody>\n",
       "    <tr>\n",
       "      <th>0</th>\n",
       "      <td>1477147</td>\n",
       "      <td>337525</td>\n",
       "      <td>Hangawi</td>\n",
       "      <td>Korean</td>\n",
       "      <td>30.75</td>\n",
       "      <td>Weekend</td>\n",
       "      <td>Not given</td>\n",
       "      <td>25</td>\n",
       "      <td>20</td>\n",
       "    </tr>\n",
       "    <tr>\n",
       "      <th>1</th>\n",
       "      <td>1477685</td>\n",
       "      <td>358141</td>\n",
       "      <td>Blue Ribbon Sushi Izakaya</td>\n",
       "      <td>Japanese</td>\n",
       "      <td>12.08</td>\n",
       "      <td>Weekend</td>\n",
       "      <td>Not given</td>\n",
       "      <td>25</td>\n",
       "      <td>23</td>\n",
       "    </tr>\n",
       "    <tr>\n",
       "      <th>2</th>\n",
       "      <td>1477070</td>\n",
       "      <td>66393</td>\n",
       "      <td>Cafe Habana</td>\n",
       "      <td>Mexican</td>\n",
       "      <td>12.23</td>\n",
       "      <td>Weekday</td>\n",
       "      <td>5</td>\n",
       "      <td>23</td>\n",
       "      <td>28</td>\n",
       "    </tr>\n",
       "    <tr>\n",
       "      <th>3</th>\n",
       "      <td>1477334</td>\n",
       "      <td>106968</td>\n",
       "      <td>Blue Ribbon Fried Chicken</td>\n",
       "      <td>American</td>\n",
       "      <td>29.20</td>\n",
       "      <td>Weekend</td>\n",
       "      <td>3</td>\n",
       "      <td>25</td>\n",
       "      <td>15</td>\n",
       "    </tr>\n",
       "    <tr>\n",
       "      <th>4</th>\n",
       "      <td>1478249</td>\n",
       "      <td>76942</td>\n",
       "      <td>Dirty Bird to Go</td>\n",
       "      <td>American</td>\n",
       "      <td>11.59</td>\n",
       "      <td>Weekday</td>\n",
       "      <td>4</td>\n",
       "      <td>25</td>\n",
       "      <td>24</td>\n",
       "    </tr>\n",
       "  </tbody>\n",
       "</table>\n",
       "</div>"
      ],
      "text/plain": [
       "   order_id  customer_id            restaurant_name cuisine_type  \\\n",
       "0   1477147       337525                    Hangawi       Korean   \n",
       "1   1477685       358141  Blue Ribbon Sushi Izakaya     Japanese   \n",
       "2   1477070        66393                Cafe Habana      Mexican   \n",
       "3   1477334       106968  Blue Ribbon Fried Chicken     American   \n",
       "4   1478249        76942           Dirty Bird to Go     American   \n",
       "\n",
       "   cost_of_the_order day_of_the_week     rating  food_preparation_time  \\\n",
       "0              30.75         Weekend  Not given                     25   \n",
       "1              12.08         Weekend  Not given                     25   \n",
       "2              12.23         Weekday          5                     23   \n",
       "3              29.20         Weekend          3                     25   \n",
       "4              11.59         Weekday          4                     25   \n",
       "\n",
       "   delivery_time  \n",
       "0             20  \n",
       "1             23  \n",
       "2             28  \n",
       "3             15  \n",
       "4             24  "
      ]
     },
     "execution_count": 17,
     "metadata": {},
     "output_type": "execute_result"
    }
   ],
   "source": [
    "import pandas as pd\n",
    "import numpy as np\n",
    "\n",
    "orders = pd.read_csv('baseNY/food_order.csv')\n",
    "\n",
    "orders.head()"
   ]
  },
  {
   "cell_type": "code",
   "execution_count": 11,
   "id": "f3c89e39-af1b-4927-af6d-27a5244e1ca7",
   "metadata": {},
   "outputs": [
    {
     "name": "stdout",
     "output_type": "stream",
     "text": [
      "\n",
      "Não existem amostras redudantes ou inconsistentes\n"
     ]
    }
   ],
   "source": [
    "#Pré-processamento: tratamento de dados inconsistentes ou redundantes\n",
    "#Remove dados duplicados, que para fim estátisticos são irrelevantes\n",
    "orders_duplicates = orders [ orders.duplicated(subset=['restaurant_name', 'cuisine_type', 'cost_of_the_order', 'day_of_the_week', 'rating', 'food_preparation_time', 'delivery_time'], keep=False)]\n",
    "\n",
    "if len(orders_duplicates) > 0:\n",
    "  print('\\nAmostras redudantes ou inconsistentes:\\n')\n",
    "  print(orders_duplicates)\n",
    "else: print('\\nNão existem amostras redudantes ou inconsistentes')"
   ]
  },
  {
   "cell_type": "code",
   "execution_count": 12,
   "id": "529d85d3-6673-4fd9-b2ef-e7660baf48c7",
   "metadata": {},
   "outputs": [
    {
     "name": "stdout",
     "output_type": "stream",
     "text": [
      "\n",
      "Detalhes:\n",
      "\n",
      "           order_id    customer_id  cost_of_the_order  food_preparation_time  \\\n",
      "count  1.898000e+03    1898.000000        1898.000000            1898.000000   \n",
      "mean   1.477496e+06  171168.478398          16.498851              27.371970   \n",
      "std    5.480497e+02  113698.139743           7.483812               4.632481   \n",
      "min    1.476547e+06    1311.000000           4.470000              20.000000   \n",
      "25%    1.477021e+06   77787.750000          12.080000              23.000000   \n",
      "50%    1.477496e+06  128600.000000          14.140000              27.000000   \n",
      "75%    1.477970e+06  270525.000000          22.297500              31.000000   \n",
      "max    1.478444e+06  405334.000000          35.410000              35.000000   \n",
      "\n",
      "       delivery_time  \n",
      "count    1898.000000  \n",
      "mean       24.161749  \n",
      "std         4.972637  \n",
      "min        15.000000  \n",
      "25%        20.000000  \n",
      "50%        25.000000  \n",
      "75%        28.000000  \n",
      "max        33.000000  \n"
     ]
    }
   ],
   "source": [
    "orders_detalhes = orders.describe()\n",
    "\n",
    "\n",
    "print('\\nDetalhes:\\n')\n",
    "print(orders_detalhes)"
   ]
  }
 ],
 "metadata": {
  "kernelspec": {
   "display_name": "Python 3 (ipykernel)",
   "language": "python",
   "name": "python3"
  },
  "language_info": {
   "codemirror_mode": {
    "name": "ipython",
    "version": 3
   },
   "file_extension": ".py",
   "mimetype": "text/x-python",
   "name": "python",
   "nbconvert_exporter": "python",
   "pygments_lexer": "ipython3",
   "version": "3.10.12"
  }
 },
 "nbformat": 4,
 "nbformat_minor": 5
}
